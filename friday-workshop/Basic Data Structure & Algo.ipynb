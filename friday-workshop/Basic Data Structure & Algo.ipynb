{
 "cells": [
  {
   "cell_type": "markdown",
   "metadata": {},
   "source": [
    "## Basic Data Structure & Algorithms in Python\n",
    "\n",
    "### 1. Know-What"
   ]
  },
  {
   "cell_type": "markdown",
   "metadata": {},
   "source": [
    "1.1 What are **list, tuple, array**? Can you explain the difference between them?"
   ]
  },
  {
   "cell_type": "code",
   "execution_count": 1,
   "metadata": {},
   "outputs": [],
   "source": [
    "# list example\n",
    "ls = ['a', 'b' ,'c']"
   ]
  },
  {
   "cell_type": "code",
   "execution_count": 2,
   "metadata": {},
   "outputs": [
    {
     "data": {
      "text/plain": [
       "'a'"
      ]
     },
     "execution_count": 2,
     "metadata": {},
     "output_type": "execute_result"
    }
   ],
   "source": [
    "ls[0]"
   ]
  },
  {
   "cell_type": "code",
   "execution_count": 3,
   "metadata": {},
   "outputs": [
    {
     "data": {
      "text/plain": [
       "3"
      ]
     },
     "execution_count": 3,
     "metadata": {},
     "output_type": "execute_result"
    }
   ],
   "source": [
    "len(ls)"
   ]
  },
  {
   "cell_type": "code",
   "execution_count": 4,
   "metadata": {},
   "outputs": [
    {
     "data": {
      "text/plain": [
       "True"
      ]
     },
     "execution_count": 4,
     "metadata": {},
     "output_type": "execute_result"
    }
   ],
   "source": [
    "ls[1] = 'x'\n",
    "'x' in ls"
   ]
  },
  {
   "cell_type": "code",
   "execution_count": 5,
   "metadata": {},
   "outputs": [
    {
     "data": {
      "text/plain": [
       "['a', 'x', 'y']"
      ]
     },
     "execution_count": 5,
     "metadata": {},
     "output_type": "execute_result"
    }
   ],
   "source": [
    "ls.append('y')\n",
    "ls.remove('c')\n",
    "ls"
   ]
  },
  {
   "cell_type": "code",
   "execution_count": 6,
   "metadata": {},
   "outputs": [
    {
     "data": {
      "text/plain": [
       "['a', 'x']"
      ]
     },
     "execution_count": 6,
     "metadata": {},
     "output_type": "execute_result"
    }
   ],
   "source": [
    "ls.pop()\n",
    "ls"
   ]
  },
  {
   "cell_type": "code",
   "execution_count": 7,
   "metadata": {},
   "outputs": [
    {
     "data": {
      "text/plain": [
       "('a', 'b', 'c', 'a')"
      ]
     },
     "execution_count": 7,
     "metadata": {},
     "output_type": "execute_result"
    }
   ],
   "source": [
    "# tuple example\n",
    "tup = ('a', 'b', 'c', 'a')\n",
    "tup"
   ]
  },
  {
   "cell_type": "code",
   "execution_count": 8,
   "metadata": {},
   "outputs": [
    {
     "ename": "TypeError",
     "evalue": "'tuple' object does not support item assignment",
     "output_type": "error",
     "traceback": [
      "\u001b[1;31m---------------------------------------------------------------------------\u001b[0m",
      "\u001b[1;31mTypeError\u001b[0m                                 Traceback (most recent call last)",
      "\u001b[1;32m<ipython-input-8-13ac3d3fc0cc>\u001b[0m in \u001b[0;36m<module>\u001b[1;34m\u001b[0m\n\u001b[1;32m----> 1\u001b[1;33m \u001b[0mtup\u001b[0m\u001b[1;33m[\u001b[0m\u001b[1;36m1\u001b[0m\u001b[1;33m]\u001b[0m \u001b[1;33m=\u001b[0m \u001b[1;34m'a'\u001b[0m\u001b[1;33m\u001b[0m\u001b[0m\n\u001b[0m",
      "\u001b[1;31mTypeError\u001b[0m: 'tuple' object does not support item assignment"
     ]
    }
   ],
   "source": [
    "tup[1] = 'a'"
   ]
  },
  {
   "cell_type": "code",
   "execution_count": 9,
   "metadata": {},
   "outputs": [
    {
     "data": {
      "text/plain": [
       "{'a', 'b', 'c'}"
      ]
     },
     "execution_count": 9,
     "metadata": {},
     "output_type": "execute_result"
    }
   ],
   "source": [
    "# set example\n",
    "st = {'a', 'b', 'c', 'a'}\n",
    "st"
   ]
  },
  {
   "cell_type": "markdown",
   "metadata": {},
   "source": [
    "1.2. What is **list comprehension** in Python?    "
   ]
  },
  {
   "cell_type": "markdown",
   "metadata": {},
   "source": [
    "Question: Given a random number generator from 0 to 1, and a list of N objects, how to generate a list of length K (K<N) of elements randomly chosen from N with replacement? (i.e. each outcome has equal probability) Code it in a list comprehension fashion."
   ]
  },
  {
   "cell_type": "code",
   "execution_count": 14,
   "metadata": {},
   "outputs": [
    {
     "data": {
      "text/plain": [
       "['Steakhouse',\n",
       " 'Japanese',\n",
       " 'Pizza',\n",
       " 'Indian',\n",
       " 'Italian',\n",
       " 'Pizza',\n",
       " 'Indian',\n",
       " 'Chinese']"
      ]
     },
     "execution_count": 14,
     "metadata": {},
     "output_type": "execute_result"
    }
   ],
   "source": [
    "import random\n",
    "import numpy as np\n",
    "\n",
    "K = 7\n",
    "list_N = ['Chinese','Italian','Indian','Pizza','Steakhouse','Mexican','Japanese','Cafe']\n",
    "\n",
    "def generate_random_list(K, list_N):\n",
    "    \n",
    "    N = len(list_N)\n",
    "    \n",
    "    return [list_N[int(np.floor(random.uniform(0,1) * N))] for i in range(N)]\n",
    "    \n",
    "                   \n",
    "generate_random_list(K, list_N)"
   ]
  },
  {
   "cell_type": "markdown",
   "metadata": {},
   "source": [
    "1.3 What is a **dictionary**? How can you create one?"
   ]
  },
  {
   "cell_type": "code",
   "execution_count": 15,
   "metadata": {},
   "outputs": [
    {
     "data": {
      "text/plain": [
       "{'GOOG': 173.4, 'AAPL': 201.3, 'AMZN': 167.1}"
      ]
     },
     "execution_count": 15,
     "metadata": {},
     "output_type": "execute_result"
    }
   ],
   "source": [
    "# dict example\n",
    "thisdict = {\n",
    "    'GOOG' : 173.4,\n",
    "    'AAPL' : 201.3,\n",
    "    'AMZN' : 167.1\n",
    "}\n",
    "\n",
    "thisdict"
   ]
  },
  {
   "cell_type": "code",
   "execution_count": 16,
   "metadata": {},
   "outputs": [
    {
     "data": {
      "text/plain": [
       "{'GOOG': 173.4, 'AAPL': 201.3, 'AMZN': 167.1, 'FB': 122.3}"
      ]
     },
     "execution_count": 16,
     "metadata": {},
     "output_type": "execute_result"
    }
   ],
   "source": [
    "thisdict['FB'] = 122.3\n",
    "thisdict"
   ]
  },
  {
   "cell_type": "code",
   "execution_count": 17,
   "metadata": {},
   "outputs": [],
   "source": [
    "keys = ['Mo','Tu','We','Th']\n",
    "vals = [1,2,3,4]"
   ]
  },
  {
   "cell_type": "code",
   "execution_count": 18,
   "metadata": {},
   "outputs": [
    {
     "data": {
      "text/plain": [
       "{'Mo': 1, 'Tu': 2, 'We': 3, 'Th': 4}"
      ]
     },
     "execution_count": 18,
     "metadata": {},
     "output_type": "execute_result"
    }
   ],
   "source": [
    "thatdict = dict(zip(keys, vals))\n",
    "thatdict"
   ]
  },
  {
   "cell_type": "markdown",
   "metadata": {},
   "source": [
    "### 2. Know-How"
   ]
  },
  {
   "cell_type": "markdown",
   "metadata": {},
   "source": [
    "**2.1 Two Sum problem** : Given an array of a million integers, and a target value n, determine which pair(s) of numbers sum to n. \n",
    "#### Implement your algorithm here:"
   ]
  },
  {
   "cell_type": "code",
   "execution_count": 5,
   "metadata": {},
   "outputs": [],
   "source": [
    "## input   : a list of numbers, a target number\n",
    "## output  : the index of the two numbers whose sum equals target. You may assume that each input would have exactly one solution\n",
    "## example : Given nums = [2, 7, 11, 15], target = 9,\n",
    "##           return [0, 1].\n",
    "\n",
    "def twoSumBruteForce(nums, target):\n",
    "    \n",
    "    for i in range(len(A)-1):\n",
    "        for j in range(i+1,len(A)):\n",
    "            if A[i] + A[j] == target:\n",
    "                print(str(A[i]) + ' + ' + str(A[j]) + ' = ' + str(target))\n",
    "                return i, j\n",
    "            \n",
    "    print('No matches found.')\n",
    "    return 0, 0\n"
   ]
  },
  {
   "cell_type": "markdown",
   "metadata": {},
   "source": [
    "#### What is the computational complexity of your solution?"
   ]
  },
  {
   "cell_type": "code",
   "execution_count": 10,
   "metadata": {},
   "outputs": [
    {
     "name": "stdout",
     "output_type": "stream",
     "text": [
      "2 + 11 = 13\n"
     ]
    },
    {
     "data": {
      "text/plain": [
       "(2, 5)"
      ]
     },
     "execution_count": 10,
     "metadata": {},
     "output_type": "execute_result"
    }
   ],
   "source": [
    "A = [-2, 1, 2, 4, 7, 11]\n",
    "target = 13\n",
    "twoSumBruteForce(A, target)"
   ]
  },
  {
   "cell_type": "markdown",
   "metadata": {},
   "source": [
    "#### Better solution here:"
   ]
  },
  {
   "cell_type": "code",
   "execution_count": 12,
   "metadata": {},
   "outputs": [
    {
     "name": "stdout",
     "output_type": "stream",
     "text": [
      "2 + 11 = 13\n"
     ]
    },
    {
     "data": {
      "text/plain": [
       "(2, 5)"
      ]
     },
     "execution_count": 12,
     "metadata": {},
     "output_type": "execute_result"
    }
   ],
   "source": [
    "def twoSumDict(A, target):\n",
    "    \n",
    "    sumDict = {}\n",
    "    \n",
    "    for i in range(len(A)):\n",
    "        if A[i] in sumDict:\n",
    "            key = sumDict[A[i]]\n",
    "            print(str(A[key]) + ' + ' + str(A[i]) + ' = ' + str(target))\n",
    "            return sumDict[A[i]], i\n",
    "        else:\n",
    "            sumDict[target - A[i]] = i\n",
    "            \n",
    "    print('No matches found.')\n",
    "    return 0, 0\n",
    "\n",
    "twoSumDict(A, target)"
   ]
  },
  {
   "cell_type": "markdown",
   "metadata": {},
   "source": [
    "Reference: [Two Sum](https://leetcode.com/problems/two-sum/) &  [Arrays in Python: Two Sum Problem](https://www.youtube.com/watch?v=gCin6Qz-eJQ)\n",
    "\n",
    "Note: If the array is sorted, one can come up with an algo which requires O(n) complexity and O(1) memory."
   ]
  },
  {
   "cell_type": "markdown",
   "metadata": {},
   "source": [
    "**2.2 Maximum Sum Subarray Problem** : Given an integer array nums, find the contiguous subarray (containing at least one number) which has the largest sum and return its sum.\n",
    "\n"
   ]
  },
  {
   "cell_type": "code",
   "execution_count": 1,
   "metadata": {},
   "outputs": [
    {
     "data": {
      "text/html": [
       "<img src=\"https://www.geeksforgeeks.org/wp-content/uploads/kadane-Algorithm.png\"/>"
      ],
      "text/plain": [
       "<IPython.core.display.Image object>"
      ]
     },
     "execution_count": 1,
     "metadata": {},
     "output_type": "execute_result"
    }
   ],
   "source": [
    "from IPython.display import Image\n",
    "Image(url= \"https://www.geeksforgeeks.org/wp-content/uploads/kadane-Algorithm.png\")"
   ]
  },
  {
   "cell_type": "markdown",
   "metadata": {},
   "source": [
    "We have come up with several algorithms to do the maximum subarray problem. Let's code each of them and test if they work correctly."
   ]
  },
  {
   "cell_type": "code",
   "execution_count": 42,
   "metadata": {},
   "outputs": [
    {
     "name": "stdout",
     "output_type": "stream",
     "text": [
      "7\n",
      "12\n"
     ]
    }
   ],
   "source": [
    "## input   : a list of numbers\n",
    "## output  : the largest sum of subarray\n",
    "\n",
    "## 1. Calculate a list of cumulative sum up to each element\n",
    "##    return maxSum = max cumulative sum - min cumulative sum\n",
    "\n",
    "def maxSubarray(nums):\n",
    "    \n",
    "    cSum, maxSum, minSum = 0, 0, 0\n",
    "    \n",
    "    for i in range(len(nums)):\n",
    "        cSum += nums[i]\n",
    "        maxSum = max(cSum, maxSum)\n",
    "        minSum = min(cSum, minSum)\n",
    "        \n",
    "    return maxSum - minSum\n",
    "        \n",
    "# test1\n",
    "nums1 = [-2, -3, 4, -1, -2, 1, 5, -3]       \n",
    "print(maxSubarray(nums1))\n",
    "\n",
    "# test2\n",
    "nums2 = [2, 3, 2, 3, -4, -4, -4] \n",
    "print(maxSubarray(nums2))"
   ]
  },
  {
   "cell_type": "code",
   "execution_count": 52,
   "metadata": {},
   "outputs": [
    {
     "name": "stdout",
     "output_type": "stream",
     "text": [
      "2\n",
      "-10\n"
     ]
    }
   ],
   "source": [
    "## 2. Calculate a list of cumulative sum up to each element to get list 1\n",
    "##    reverse the original array and do the same to get list 2\n",
    "##    return maxSum = max cumulative sum of list 1 - max cumulative sum of list 2\n",
    "\n",
    "def maxSubarray(nums):\n",
    "    \n",
    "    cSum, maxSum = 0, 0\n",
    "    cSum2, maxSum2 = 0, 0\n",
    "    \n",
    "    for i in range(len(nums)):\n",
    "        cSum += nums[i]\n",
    "        maxSum = max(cSum, maxSum)\n",
    "        \n",
    "    for i in range(len(nums)):\n",
    "        j = len(nums) - 1 - i\n",
    "        cSum2 += nums[j]\n",
    "        maxSum2 = max(cSum2, maxSum2)\n",
    "        \n",
    "    return maxSum2 - maxSum\n",
    "        \n",
    "# test1\n",
    "nums1 = [-2, -3, 4, -1, -2, 1, 5, -3]       \n",
    "print(maxSubarray(nums1))\n",
    "\n",
    "# test2\n",
    "nums2 = [2, 3, 2, 3, -4, -4, -4]    \n",
    "print(maxSubarray(nums2))"
   ]
  },
  {
   "cell_type": "code",
   "execution_count": 64,
   "metadata": {},
   "outputs": [
    {
     "name": "stdout",
     "output_type": "stream",
     "text": [
      "7\n",
      "10\n",
      "0\n"
     ]
    }
   ],
   "source": [
    "## 3. Calculate cumulative sum up to each element\n",
    "##    if the sum is negative, give up and start from 0\n",
    "##    if the sum is positive, go on and add the next element\n",
    "\n",
    "def maxSubarray(nums):\n",
    "    \n",
    "    cSum    = 0 ## cumulative sum up to index i, take positive part\n",
    "    maxSum  = 0 ## max sum of subarray\n",
    "    \n",
    "    for i in range(len(nums)):\n",
    "        \n",
    "        if cSum < 0:\n",
    "            cSum = 0\n",
    "        else:\n",
    "            cSum += nums[i]\n",
    "        \n",
    "        maxSum = max(maxSum, cSum)\n",
    "        \n",
    "    return maxSum\n",
    "        \n",
    "# test1\n",
    "nums1 = [-2, -3, 4, -1, -2, 1, 5, -3]       \n",
    "print(maxSubarray(nums1))\n",
    "\n",
    "# test2\n",
    "nums2 = [2, 3, 2, 3, -4, -4, -4]    \n",
    "print(maxSubarray(nums2))\n",
    "\n",
    "# test3\n",
    "nums3 = [-2, -2, -3, -3, -4, -4]\n",
    "print(maxSubarray(nums3))"
   ]
  },
  {
   "cell_type": "code",
   "execution_count": 65,
   "metadata": {},
   "outputs": [
    {
     "name": "stdout",
     "output_type": "stream",
     "text": [
      "7\n",
      "10\n",
      "0\n"
     ]
    }
   ],
   "source": [
    "## 4. Calculate cumulative sum up to index i , Ti\n",
    "##    Tmin = min(T1, T2, ..., Ti)\n",
    "##    max sum = Tn - Tmin\n",
    "\n",
    "def maxSubarray(nums):\n",
    "    \n",
    "    cSum    = 0   ## cumulative sum up to index i\n",
    "    Tmin    = 0   ## min sum of first few elements\n",
    "    maxSum  = 0   ## max sum of subarray\n",
    "    \n",
    "    for i in range(len(nums)):\n",
    "        \n",
    "        cSum += nums[i]\n",
    "        Tmin = min(Tmin, cSum)\n",
    "        maxSum = max(maxSum, cSum - Tmin)\n",
    "        \n",
    "    return maxSum\n",
    "        \n",
    "# test1\n",
    "nums1 = [-2, -3, 4, -1, -2, 1, 5, -3]       \n",
    "print(maxSubarray(nums1))\n",
    "\n",
    "# test2\n",
    "nums2 = [2, 3, 2, 3, -4, -4, -4]    \n",
    "print(maxSubarray(nums2))\n",
    "\n",
    "# test3\n",
    "nums3 = [-2, -2, -3, -3, -4, -4]\n",
    "print(maxSubarray(nums3))"
   ]
  },
  {
   "cell_type": "code",
   "execution_count": null,
   "metadata": {},
   "outputs": [],
   "source": []
  },
  {
   "cell_type": "markdown",
   "metadata": {},
   "source": [
    "**Modeling Maximum Drawdown**:    \n",
    "Given a time series of stock returns, what is the largest contiguous loss during the time window? and for how long does it last?\n",
    "    "
   ]
  },
  {
   "cell_type": "code",
   "execution_count": 22,
   "metadata": {},
   "outputs": [],
   "source": [
    "def maxDrawdown(nums):\n",
    "    \n",
    "    '''return maximum drawdown (%), and the corresponding time window'''\n",
    "    cSum   = 0        ## cumulative sum up to index i\n",
    "    Tmax   = nums[0]  ## max sum of first few elements\n",
    "    minSum = 0        ## min sum of subarray\n",
    "    idx1   = 0        ## start index of the subarray\n",
    "    idx2   = 0        ## end index of the subarray\n",
    "    idxT   = 0        ## end index of Tmin\n",
    " \n",
    "    for i in range(len(nums)):\n",
    "        \n",
    "        cSum += nums[i]\n",
    "        \n",
    "        if Tmax < cSum:\n",
    "            Tmax = cSum\n",
    "            idxT = i + 1\n",
    "        \n",
    "        if minSum > cSum - Tmax:\n",
    "            minSum = cSum - Tmax\n",
    "            idx1 = idxT\n",
    "            idx2 = i\n",
    "        \n",
    "    return idx1, idx2, minSum"
   ]
  },
  {
   "cell_type": "code",
   "execution_count": 82,
   "metadata": {},
   "outputs": [
    {
     "name": "stdout",
     "output_type": "stream",
     "text": [
      "(0, 1, -3)\n",
      "(4, 6, -12)\n",
      "(0, 5, -16)\n"
     ]
    }
   ],
   "source": [
    "# test1\n",
    "nums1 = [-2, -3, 4, -1, -2, 1, 5, -3]       \n",
    "print(maxDrawdown(nums1))\n",
    "\n",
    "# test2\n",
    "nums2 = [2, 3, 2, 3, -4, -4, -4]    \n",
    "print(maxDrawdown(nums2))\n",
    "\n",
    "# test3\n",
    "nums3 = [-2, -2, -3, -3, -4, -4]\n",
    "print(maxDrawdown(nums3))"
   ]
  },
  {
   "cell_type": "markdown",
   "metadata": {},
   "source": [
    "**Try your algorithm on AAPL stock price data:**"
   ]
  },
  {
   "cell_type": "code",
   "execution_count": 24,
   "metadata": {},
   "outputs": [
    {
     "data": {
      "text/plain": [
       "[<matplotlib.lines.Line2D at 0x190bbe76c50>]"
      ]
     },
     "execution_count": 24,
     "metadata": {},
     "output_type": "execute_result"
    },
    {
     "data": {
      "image/png": "[encoded data removed]",
      "text/plain": [
       "<Figure size 432x288 with 1 Axes>"
      ]
     },
     "metadata": {
      "needs_background": "light"
     },
     "output_type": "display_data"
    }
   ],
   "source": [
    "## load data from quandl API\n",
    "import quandl\n",
    "quandl.ApiConfig.api_key = 'jou3Hy9N_sKPZxy9mgxt' ## replace with your own key of quandl account from https://www.quandl.com/account/profile\n",
    "AAPL_price = quandl.get(\"EOD/AAPL\", start_date=\"2018-01-01\", end_date=\"2018-12-31\")\n",
    "\n",
    "## OR import from url address by Pandas package read_csv\n",
    "# import pandas as pd\n",
    "# url = \"https://raw.githubusercontent.com/dlu-umich/dlu-umich.github.io/master/friday-workshop/AAPL_price.csv\"\n",
    "# AAPL_price = pd.read_csv(url)\n",
    "\n",
    "## plot the daily close price of AAPL stock\n",
    "import matplotlib.pyplot as plt\n",
    "plt.plot(AAPL_price.Adj_Close)"
   ]
  },
  {
   "cell_type": "code",
   "execution_count": 25,
   "metadata": {},
   "outputs": [],
   "source": [
    "import numpy as np\n",
    "# calculate return from price time series\n",
    "ret = np.log(AAPL_price.Adj_Close) - np.log(AAPL_price.Adj_Close.shift(1))\n",
    "ret = ret[1:]"
   ]
  },
  {
   "cell_type": "code",
   "execution_count": 32,
   "metadata": {},
   "outputs": [
    {
     "name": "stdout",
     "output_type": "stream",
     "text": [
      "If you buy 1 share of AAPL on 2018-10-03 at price 230.27\n",
      "              then sell it on 2018-12-21 at price 150.09\n",
      "Portfolio will have PnL : -45.43%\n"
     ]
    }
   ],
   "source": [
    "## apply maxDrawdown function to AAPL return time series\n",
    "start_ind, end_ind, MDD = maxDrawdown(ret)\n",
    "\n",
    "# get date and price from index, and shape them in good format\n",
    "start_date, end_date = AAPL_price.Adj_Close.index[start_ind].date(), AAPL_price.Adj_Close.index[end_ind].date()\n",
    "start_price, end_price, MDD = round(AAPL_price.Adj_Close[start_ind], 2), round(AAPL_price.Adj_Close[end_ind], 2), round(MDD, 4)\n",
    "\n",
    "# print out maximum drawdown trading info\n",
    "print('If you buy 1 share of AAPL on '+ str(start_date) + ' at price ' + str(start_price))\n",
    "print('              then sell it on ' + str(end_date) + ' at price ' + str(end_price))\n",
    "print('Portfolio will have PnL : '+ str(MDD*100) + '%')"
   ]
  },
  {
   "cell_type": "markdown",
   "metadata": {},
   "source": [
    "Reference:\n",
    "\n",
    "1. [Maximum Subarray](https://leetcode.com/problems/maximum-subarray/)\n",
    "2. [Best Time to Buy and Sell Stock](https://leetcode.com/problems/best-time-to-buy-and-sell-stock/)\n",
    "3. [Kadane's Algorithm to Maximum Sum Subarray Problem](https://www.youtube.com/watch?v=86CQq3pKSUw)"
   ]
  },
  {
   "cell_type": "markdown",
   "metadata": {},
   "source": [
    "**2.3 Substring matching** : Given two strings $S$ and $T$, how to determine if $S$ is a substring of $T$?    \n",
    "\n",
    "#### Example: \n",
    "S = \"abc\", T = \"ahbgdc\"   \n",
    "Return True\n",
    "\n",
    "#### Implement your algorithm here:"
   ]
  },
  {
   "cell_type": "code",
   "execution_count": 42,
   "metadata": {},
   "outputs": [],
   "source": [
    "def isSubstring(s, t):\n",
    "    i = 0\n",
    "    j = 0\n",
    "    \n",
    "    while i < len(s) and j < len(t):\n",
    "        if s[i] == t[j]:\n",
    "            i += 1\n",
    "        else:\n",
    "            j += 1\n",
    "         \n",
    "    return i == len(s)"
   ]
  },
  {
   "cell_type": "code",
   "execution_count": 43,
   "metadata": {},
   "outputs": [
    {
     "data": {
      "text/plain": [
       "True"
      ]
     },
     "execution_count": 43,
     "metadata": {},
     "output_type": "execute_result"
    }
   ],
   "source": [
    "## test 1\n",
    "s = \"abc\"\n",
    "t = \"ahbgdc\"\n",
    "isSubstring(s,t)"
   ]
  },
  {
   "cell_type": "code",
   "execution_count": 44,
   "metadata": {},
   "outputs": [
    {
     "data": {
      "text/plain": [
       "False"
      ]
     },
     "execution_count": 44,
     "metadata": {},
     "output_type": "execute_result"
    }
   ],
   "source": [
    "## test 2\n",
    "s = \"axc\"\n",
    "t = \"ahbgdc\"\n",
    "isSubstring(s,t)"
   ]
  },
  {
   "cell_type": "markdown",
   "metadata": {},
   "source": [
    "Reference: [is-subsequence](https://leetcode.com/problems/is-subsequence/)"
   ]
  },
  {
   "cell_type": "markdown",
   "metadata": {},
   "source": [
    "### 3. Crack"
   ]
  },
  {
   "cell_type": "markdown",
   "metadata": {},
   "source": [
    "3.1 Two Sum closest to target:\n",
    "\n",
    "Given an array nums of n integers, find two integers in nums such that the sum is closest to a given number, target.\n",
    "\n",
    "Return the difference between the sum of the two integers and the target."
   ]
  },
  {
   "cell_type": "code",
   "execution_count": 17,
   "metadata": {},
   "outputs": [],
   "source": [
    "## Example: Given array nums = [-1, 2, 1, -4], and target = 4.\n",
    "##          return The minimum difference is 1. (4 - (2 + 1) = 1).\n",
    "\n",
    "def twoSumClosest(nums, target):\n",
    "    \n",
    "    ## sorting an array with length n takes O(nlogn) time\n",
    "    nums.sort()\n",
    "    \n",
    "    i = 0                       # start with the smallest element\n",
    "    j = len(nums) - 1           # start with the largest element\n",
    "    minDiff = abs(nums[0] - target)\n",
    "    \n",
    "    while i < j:\n",
    "        \n",
    "        diff = nums[i] + nums[j] - target\n",
    "        \n",
    "        if diff == 0:\n",
    "            return 0\n",
    "        \n",
    "        elif diff > 0:         # move downwards to a smaller element\n",
    "            j -= 1\n",
    "            \n",
    "        else: ## diff < 0      # move upwards to a larger element\n",
    "            i += 1\n",
    "        \n",
    "        minDiff = min(minDiff, abs(diff))\n",
    "        \n",
    "    return minDiff"
   ]
  },
  {
   "cell_type": "code",
   "execution_count": 20,
   "metadata": {},
   "outputs": [
    {
     "name": "stdout",
     "output_type": "stream",
     "text": [
      "1\n"
     ]
    }
   ],
   "source": [
    "# test\n",
    "nums = [-10, -5, 1, 5, 10, 12, 13]\n",
    "target = 4\n",
    "print(twoSumClosest(nums, target))"
   ]
  },
  {
   "cell_type": "markdown",
   "metadata": {},
   "source": [
    "Reference: [Two Sum Closest](http://leancodingnow.com/two-sum-closest/)"
   ]
  },
  {
   "cell_type": "markdown",
   "metadata": {},
   "source": [
    "3.2 Based on a [Citadel interview question](https://www.glassdoor.com/Interview/You-are-given-an-array-of-integers-A1-A2-An-including-negatives-and-positives-and-another-integer-S-Now-we-need-QTN_168340.htm):\n",
    "\n",
    "You are given an array of integers, A1, A2, ..., An, including negatives and positives, and another integer S. Now we need to find three different integers in the array, whose sum is closest to the given integer S. If there exists more than one solution, any of them is ok. Is there an algorithm to find the three integers in O(n^2) time?"
   ]
  },
  {
   "cell_type": "code",
   "execution_count": 45,
   "metadata": {},
   "outputs": [
    {
     "name": "stdout",
     "output_type": "stream",
     "text": [
      "2\n"
     ]
    }
   ],
   "source": [
    "def threeSumClosest(nums, target):\n",
    "\n",
    "    nums.sort() ## sorting takes O(nlogn) time\n",
    "    minDiff = abs(sum(nums[:3]) - target)\n",
    "\n",
    "    for i in range(len(nums)-2):\n",
    "        j = i + 1\n",
    "        k = len(nums) - 1\n",
    "\n",
    "        while j < k:\n",
    "            newTarget = target - nums[i]\n",
    "            diff = nums[j] + nums[k] - newTarget\n",
    "            if diff == 0:\n",
    "                return 0\n",
    "            elif diff < 0:\n",
    "                j += 1\n",
    "            else: ## diff > 0\n",
    "                k -= 1\n",
    "\n",
    "            minDiff = min(minDiff, abs(diff))\n",
    "            \n",
    "    return minDiff\n",
    "\n",
    "nums = [-2,-3,4,-1,-2,1,5,-3]\n",
    "target = 12\n",
    "print(threeSumClosest(nums, target))"
   ]
  }
 ],
 "metadata": {
  "kernelspec": {
   "display_name": "Python 3",
   "language": "python",
   "name": "python3"
  },
  "language_info": {
   "codemirror_mode": {
    "name": "ipython",
    "version": 3
   },
   "file_extension": ".py",
   "mimetype": "text/x-python",
   "name": "python",
   "nbconvert_exporter": "python",
   "pygments_lexer": "ipython3",
   "version": "3.6.6"
  }
 },
 "nbformat": 4,
 "nbformat_minor": 2
}
