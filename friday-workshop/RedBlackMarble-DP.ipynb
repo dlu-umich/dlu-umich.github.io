{
 "cells": [
  {
   "cell_type": "markdown",
   "metadata": {},
   "source": [
    "# Red Black Marble"
   ]
  },
  {
   "cell_type": "markdown",
   "metadata": {},
   "source": [
    "## Question: \n",
    "There are 4 red and 4 black marbles in a bag. Draw one at time. If you have drawn more black than red, winnings are the number of black marbles in excess of red. Otherwise, you get nothing. Quit at any time. What is your optimal strategy?"
   ]
  },
  {
   "cell_type": "markdown",
   "metadata": {},
   "source": [
    "## Intuition:\n",
    "- Firstly you can quit any time, this guarantees at least 0 winning, no loss can occur. If you find at any point you lose money (e.g. 3 red, 1 black in hand), just keep going until finish drawing all 8 balls from the bag.\n",
    "\n",
    "- Then, think about the strategy. Is it optimal to quit at following points, you draw:\n",
    "    - R, R, \n",
    "    - R, R, B, \n",
    "    - R, R, B, B,\n",
    "    - ...\n",
    "    \n",
    "- You don't want to quit in case 1 and 2 to realize the loss. In case 3, stop with winning 0 v.s. keep going with chances of winning something, you choose the latter one.\n",
    "    - The option to quit at any time is in our favor ; )\n",
    "    \n",
    "<!--- --->\n",
    "\n",
    "- If you are lucky to draw a Black at 1st time, you seems not satisified to stop and take just 1 dollar. You try to make a 2nd draw. Possibilities can be either you draw a Black(p=3/7) at 2nd time, then win 2 dollar,or you draw a Red(p=4/7), win 0.The expection on 2nd move 3/7 \\* 2 + 4/7 * 0 is less then 1.Is it a good time to stop? \n",
    "\n",
    "<!--- No. Even when you draw 1 Black and 1 Red after 2nd move, the immediate payoff is 0. However, chances of winning leads to a positive expected payoff.So we need to modify the payoff of 0 above.\n",
    "    - From this, we figured out that the strategy given one status S(num of red, num of black) is not solely depends on its $$ Payoff_{immediate} = max(\\#black - \\#red, 0)$$ The decision can be made after comparing it to $$ Payoff_{expected} = p_{red} * payoff(\\#red+1, \\#black) + p_{black} * payoff(\\#red, \\#black+1) $$ We take the max of the two. --->\n",
    "\n",
    "- The **Dynamic Programming** question can be solved by backward induction.The state space looks like a binomal tree. The state, stategy and payoff at each node of this binomial tree can be computed. The logic is the same for many questions of this kind."
   ]
  },
  {
   "cell_type": "markdown",
   "metadata": {},
   "source": [
    "## Draw a binomial tree"
   ]
  },
  {
   "cell_type": "code",
   "execution_count": 1,
   "metadata": {},
   "outputs": [],
   "source": [
    "import matplotlib.pyplot as plt"
   ]
  },
  {
   "cell_type": "code",
   "execution_count": 1,
   "metadata": {},
   "outputs": [
    {
     "data": {
      "text/html": [
       "<img src=\"https://github.com/dlu-umich/Quant-Lab/blob/master/tree.png?raw=true\"/>"
      ],
      "text/plain": [
       "<IPython.core.display.Image object>"
      ]
     },
     "execution_count": 1,
     "metadata": {},
     "output_type": "execute_result"
    }
   ],
   "source": [
    "from IPython.display import Image\n",
    "Image(url= \"https://github.com/dlu-umich/Quant-Lab/blob/master/tree.png?raw=true\")"
   ]
  },
  {
   "cell_type": "markdown",
   "metadata": {},
   "source": [
    "## Coding - recursion\n",
    "    \n",
    "    "
   ]
  },
  {
   "cell_type": "code",
   "execution_count": 2,
   "metadata": {},
   "outputs": [
    {
     "name": "stdout",
     "output_type": "stream",
     "text": [
      "0\n",
      "0.25\n",
      "0.9999999999999999\n",
      "0.85\n",
      "0.6666666666666666\n"
     ]
    }
   ],
   "source": [
    "def payoff(r, b):\n",
    "    '''r,b represents status of how many red/black balls are left in the bag'''\n",
    "    '''payoff is b - r in hand or r - b in bag'''\n",
    "    \n",
    "    if r == 0:\n",
    "        return 0\n",
    "\n",
    "    if b == 0:\n",
    "        return r  \n",
    "\n",
    "    payoff_if_stop = max(r-b, 0)\n",
    "    payoff_if_go = r/(r+b) * payoff(r-1, b) + b/(r+b) * payoff(r, b-1) \n",
    "    \n",
    "    return max(payoff_if_stop, payoff_if_go)\n",
    "\n",
    "print(payoff(0,0))\n",
    "print(payoff(1,3))\n",
    "print(payoff(4,4))\n",
    "print(payoff(3,3))\n",
    "print(payoff(2,2))"
   ]
  },
  {
   "cell_type": "code",
   "execution_count": 5,
   "metadata": {},
   "outputs": [
    {
     "data": {
      "image/png": "[encoded data removed]",
      "text/plain": [
       "<Figure size 432x288 with 1 Axes>"
      ]
     },
     "metadata": {
      "needs_background": "light"
     },
     "output_type": "display_data"
    }
   ],
   "source": [
    "import matplotlib.pyplot as plt\n",
    "\n",
    "n = 12 ## try n = 20 ?\n",
    "x = range(n)\n",
    "res = [payoff(i,i) for i in range(n)]\n",
    "plt.plot(x,res)\n",
    "plt.title(\"payoff of game at the initial point\")\n",
    "plt.show()\n",
    "# payoff of game at the initial point"
   ]
  },
  {
   "cell_type": "code",
   "execution_count": 21,
   "metadata": {},
   "outputs": [],
   "source": [
    "# import timeit\n",
    "\n",
    "# n = 14 ## try n = 20 ?\n",
    "\n",
    "# for i in range(n):\n",
    "#     start = timeit.default_timer()\n",
    "#     res = payoff(i,i)\n",
    "#     stop = timeit.default_timer()\n",
    "#     print('Time: ', stop - start)\n",
    "    \n",
    "# observe that running time grows exponentially fast with n"
   ]
  },
  {
   "cell_type": "markdown",
   "metadata": {},
   "source": [
    "#### Complexity analysis:\n",
    "For a bag with n red marbles and n black marbles, how long will the recursion take? \n",
    "- For original state S(n,n), it will need two function calls of S(n-1,n) and S(n,n-1)\n",
    "- Each node will need 2 function calls. Notice, even though the binomial tree is recombined, the function call is not.So going one layer deeper doubles the computing time. We have n + n balls, so the tree is n depth symmetrically on both sides. It is $O(2^{2n})$ complexity."
   ]
  },
  {
   "cell_type": "markdown",
   "metadata": {},
   "source": [
    "## Coding - recursion (with cache)"
   ]
  },
  {
   "cell_type": "code",
   "execution_count": 16,
   "metadata": {},
   "outputs": [],
   "source": [
    "# build a dictionary with key = (r,b), value = payoff\n",
    "payoff_dict = {}\n",
    "\n",
    "def payoff(r, b):\n",
    "    \n",
    "    if r == 0:\n",
    "        return 0\n",
    "\n",
    "    if b == 0:\n",
    "        return r  \n",
    "\n",
    "    payoff_if_stop = max(r-b, 0)\n",
    "    \n",
    "    # if node is calculated, extract from the dictionary\n",
    "    # otherwise call the payoff() to calculate, then store it in the dictionary\n",
    "\n",
    "    ...\n",
    "    \n",
    "    payoff_if_go = r/(r+b) * red_payoff + b/(r+b) * black_payoff\n",
    "    \n",
    "    return max(payoff_if_stop, payoff_if_go)"
   ]
  },
  {
   "cell_type": "code",
   "execution_count": null,
   "metadata": {},
   "outputs": [],
   "source": [
    "print(payoff(20,20))"
   ]
  },
  {
   "cell_type": "markdown",
   "metadata": {},
   "source": [
    "## Coding - tree node as a class object\n",
    "By making use of recombining tree and already computed nodes, we can turn it into $O(n^2)$ complexity - simply counting the edges."
   ]
  },
  {
   "cell_type": "code",
   "execution_count": 1,
   "metadata": {},
   "outputs": [],
   "source": [
    "class Node:\n",
    "    def __init__(self, red, black):\n",
    "        self.r = red\n",
    "        self.b = black\n",
    "        \n",
    "        '''pointer to the next node - up/down'''\n",
    "        self.next_node_up = ...\n",
    "        self.next_node_down = ...\n",
    "        \n",
    "        '''backward induction'''\n",
    "        self.winning_if_stop = ...\n",
    "        self.winning_if_go = ...\n",
    "    \n",
    "    def winning(self):\n",
    "        '''return the winning if following the optimal strategy'''\n",
    "        return ...\n",
    "    \n",
    "    def strategy_query(self):\n",
    "        '''print the strategy given the current node'''\n",
    "        print ...\n",
    "    \n",
    "class Game:\n",
    "    def __init__(self):\n",
    "        self.node_dict = {}\n",
    "    \n",
    "    def node(self, red, black):\n",
    "        key = (red, black)\n",
    "        if key not in self.node_dict:\n",
    "            self.node_dict[key] = Node(red, black)\n",
    "        return self.node_dict[key]"
   ]
  },
  {
   "cell_type": "code",
   "execution_count": 2,
   "metadata": {},
   "outputs": [
    {
     "name": "stdout",
     "output_type": "stream",
     "text": [
      "1.607227911407478\n",
      "go\n"
     ]
    }
   ],
   "source": [
    "dp = Game()\n",
    "x = dp.node(10,10).winning()\n",
    "print(x)\n",
    "strategy = dp.node(1,3).strategy_query()"
   ]
  },
  {
   "cell_type": "code",
   "execution_count": 3,
   "metadata": {},
   "outputs": [],
   "source": [
    "## performance test\n",
    "# dp = Game()\n",
    "# res = []\n",
    "# time = []\n",
    "# for n in range(100):\n",
    "#     start = timeit.default_timer()\n",
    "#     res.append(dp.node(n,n).winning())\n",
    "#     stop = timeit.default_timer()\n",
    "#     time.append(stop - start)\n",
    "# plt.plot(time)\n",
    "# plt.title(\"running time with calculated nodes\")\n",
    "# plt.show()"
   ]
  },
  {
   "cell_type": "markdown",
   "metadata": {},
   "source": [
    "## Similar questions:"
   ]
  },
  {
   "cell_type": "markdown",
   "metadata": {},
   "source": [
    "### Dice game 1:\n",
    "You can roll a dice up to 3 times. After each roll, you can either keep the number facing up or forgo the number and keep rolling. At the end of the 3rd roll, you will have to take the number facing up.What is the worth of the game?"
   ]
  },
  {
   "cell_type": "markdown",
   "metadata": {},
   "source": [
    "### Dice game 2:\n",
    "Now you can roll a dice for as many times as you want unless a 6 shows up. After each roll, if 1 appears, you win \\$1.If 2 appears, you win \\$2. ... If 5 appears, you win \\$5. However, if 6 shows up, you must give up all the winnings and the game ends. How much are you willing to pay for playing this game. (assuming you are risk neutral)"
   ]
  },
  {
   "cell_type": "markdown",
   "metadata": {},
   "source": [
    "### Dice game 3:\n",
    "You keep rolling a dice until the sum of two consecutive steps can be divided by 6. How many steps will it expect to take?"
   ]
  }
 ],
 "metadata": {
  "kernelspec": {
   "display_name": "Python 3",
   "language": "python",
   "name": "python3"
  },
  "language_info": {
   "codemirror_mode": {
    "name": "ipython",
    "version": 3
   },
   "file_extension": ".py",
   "mimetype": "text/x-python",
   "name": "python",
   "nbconvert_exporter": "python",
   "pygments_lexer": "ipython3",
   "version": "3.6.6"
  }
 },
 "nbformat": 4,
 "nbformat_minor": 2
}
