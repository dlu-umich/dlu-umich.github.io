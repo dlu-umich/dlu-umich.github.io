{
 "cells": [
  {
   "cell_type": "markdown",
   "metadata": {},
   "source": [
    "# Red Black Marble"
   ]
  },
  {
   "cell_type": "markdown",
   "metadata": {},
   "source": [
    "## Question: \n",
    "There are 4 red and 4 black marbles in a bag. Draw one at time. If you have drawn more black than red, winnings are the number of black marbles in excess of red. Otherwise, you get nothing. Quit at any time. What is your optimal strategy?"
   ]
  },
  {
   "cell_type": "markdown",
   "metadata": {},
   "source": [
    "## Intuition:\n",
    "- Firstly you can quit any time, this guarantees at least 0 winning, no loss can occur. If you find at any point you lose money (e.g. 3 red, 1 black in hand), just keep going until finish drawing all 8 balls from the bag.\n",
    "\n",
    "- Then, think about the strategy. Is it optimal to quit at following points, you draw:\n",
    "    - R, R, \n",
    "    - R, R, B, \n",
    "    - R, R, B, B,\n",
    "    - ...\n",
    "    \n",
    "- You don't want to quit in case 1 and 2 to realize the loss. In case 3, stop with winning 0 v.s. keep going with chances of winning something, you choose the latter one.\n",
    "    - The option to quit at any time is in our favor ; )\n",
    "    \n",
    "<!--- --->\n",
    "\n",
    "- If you are lucky to draw a Black at 1st time, you seems not satisified to stop and take just 1 dollar. You try to make a 2nd draw. Possibilities can be either you draw a Black(p=3/7) at 2nd time, then win 2 dollar,or you draw a Red(p=4/7), win 0.The expection on 2nd move 3/7 \\* 2 + 4/7 * 0 is less then 1.Is it a good time to stop? \n",
    "\n",
    "<!--- No. Even when you draw 1 Black and 1 Red after 2nd move, the immediate payoff is 0. However, chances of winning leads to a positive expected payoff.So we need to modify the payoff of 0 above.\n",
    "    - From this, we figured out that the strategy given one status S(num of red, num of black) is not solely depends on its $$ Payoff_{immediate} = max(\\#black - \\#red, 0)$$ The decision can be made after comparing it to $$ Payoff_{expected} = p_{red} * payoff(\\#red+1, \\#black) + p_{black} * payoff(\\#red, \\#black+1) $$ We take the max of the two. --->\n",
    "\n",
    "- The **Dynamic Programming** question can be solved by backward induction.The state space looks like a binomal tree. The state, stategy and payoff at each node of this binomial tree can be computed. The logic is the same for many questions of this kind."
   ]
  },
  {
   "cell_type": "markdown",
   "metadata": {},
   "source": [
    "## Draw a binomial tree"
   ]
  },
  {
   "cell_type": "code",
   "execution_count": 1,
   "metadata": {},
   "outputs": [],
   "source": [
    "import matplotlib.pyplot as plt"
   ]
  },
  {
   "cell_type": "code",
   "execution_count": 1,
   "metadata": {},
   "outputs": [
    {
     "data": {
      "text/html": [
       "<img src=\"https://github.com/dlu-umich/Quant-Lab/blob/master/tree.png?raw=true\"/>"
      ],
      "text/plain": [
       "<IPython.core.display.Image object>"
      ]
     },
     "execution_count": 1,
     "metadata": {},
     "output_type": "execute_result"
    }
   ],
   "source": [
    "from IPython.display import Image\n",
    "Image(url= \"https://github.com/dlu-umich/Quant-Lab/blob/master/tree.png?raw=true\")"
   ]
  },
  {
   "cell_type": "markdown",
   "metadata": {},
   "source": [
    "## Coding - recursion\n",
    "    \n",
    "    "
   ]
  },
  {
   "cell_type": "code",
   "execution_count": 2,
   "metadata": {},
   "outputs": [
    {
     "name": "stdout",
     "output_type": "stream",
     "text": [
      "0\n",
      "0.25\n",
      "0.9999999999999999\n",
      "0.85\n",
      "0.6666666666666666\n"
     ]
    }
   ],
   "source": [
    "def payoff(r, b):\n",
    "    '''r,b represents status of how many red/black balls are left in the bag'''\n",
    "    '''payoff is b - r in hand or r - b in bag'''\n",
    "    \n",
    "    if r == 0:\n",
    "        return 0\n",
    "\n",
    "    if b == 0:\n",
    "        return r  \n",
    "\n",
    "    payoff_if_stop = max(r-b, 0)\n",
<<<<<<< HEAD
    "    payoff_if_go = r/(r+b) * payoff(r-1, b) + b/(r+b) * payoff(r, b-1) ## backward recursion    \n",
=======
    "    payoff_if_go = r/(r+b) * payoff(r-1, b) + b/(r+b) * payoff(r, b-1) \n",
    "    \n",
>>>>>>> b81947d3201a12d8a42c215398187cb3e8d743cd
    "    return max(payoff_if_stop, payoff_if_go)\n",
    "\n",
    "print(payoff(0,0))\n",
    "print(payoff(1,3))\n",
    "print(payoff(4,4))\n",
    "print(payoff(3,3))\n",
    "print(payoff(2,2))"
   ]
  },
  {
   "cell_type": "code",
<<<<<<< HEAD
   "execution_count": 8,
=======
   "execution_count": 5,
>>>>>>> b81947d3201a12d8a42c215398187cb3e8d743cd
   "metadata": {},
   "outputs": [
    {
     "data": {
<<<<<<< HEAD
      "image/png": "iVBORw0KGgoAAAANSUhEUgAAAX4AAAEICAYAAABYoZ8gAAAABHNCSVQICAgIfAhkiAAAAAlwSFlzAAALEgAACxIB0t1+/AAAADl0RVh0U29mdHdhcmUAbWF0cGxvdGxpYiB2ZXJzaW9uIDMuMC4wLCBodHRwOi8vbWF0cGxvdGxpYi5vcmcvqOYd8AAAIABJREFUeJzt3Xl8VPW9//HXJwn7vm8h7LKILBIBRQGXuhWVVq1ordqqVK1tbb3ttctVr9r78y7t1S4uaF1QC+6yaOtaxAWUgCwCyhIICQmEfQtk/fz+OIfbKSZkEiZMMvN+Ph7zyMw533PmcyaT95x8z3fOMXdHRESSR0q8CxARkeNLwS8ikmQU/CIiSUbBLyKSZBT8IiJJRsEvIpJkFPzyFWZ2n5ltN7Mt4eNvmFmume03s5E1XFcXM5tvZvvM7Ld1U3HDYGZPmdl9MVrXX83s2li0NbNHzOzfolzXPDO7Ido6o1WTGuTYpcW7AKlfzKwncDvQy90Lw8n/A9zq7rNqscqpwHagtSfQl0bMzIEB7r6uivnXATe4++l18fzufkFt2lZWl7vfFNvqaq4mNZjZU0Ceu/+67ipKbNrjlyP1AnZEhP7haSuPYX2rEin0RRo8d9etnt6AjcAvgFXALuBJoGk4rx0wF9gWzpsLpIfzLgcWH7Gu24HXwvttgOnhsjnArwl2As4BDgIVwH5gRvjTgQPA+irqPA1YBOwJf54WTn8KKAVKwvWcU8myHYA5wN5w2fuADyPmPwjkhvMXA2dEzLsbeBF4FtgHrABOCF+zwnC5cyPatwH+DBQAm8PnSq1im0YDC4DdYfs/Ao3DefMjXpP9wBVHLDsYOASUh/N3R7wefwJeD+v9BOgXsdwg4G1gJ/Al8K2jvDfmEey5A1wHfEjwn9kuYANwwZFtq6nrvureV0c+byU13Q28BDwfbt8SYPgRr8u88DVdCVwcMS+yholAHsF7tjB8/b8bzpvKP7+n5sT777Qh3uJegG5H+eUEwf850BNoD3wU8cfRAbgUaA60IgjAw8HeJAyPwRHr+gy4NLw/HZgVLtcbWANcH86bSPBvdGQdDvSvosb2YUB8h6Dr8MrwcYdw/v/9QVex/Mzw1hwYQhDWkcF/dbitaWEQbOEfH353h0F2Xjh/OkHo/QpoBNwIbIhY12vAo0ALoDPwKfD9KuoaBYwN19sbWA3cFs1rEs6/LnI7Il6LnQQfKmnAc8DMcF6LcNu/G847maCL7MQq1j+Pfw7+0nB7U4GbgXzAqmhbWV3Vvq+OXFclNd0d1nFZ+Pr/S/j7aBTe1gG/BBoDZxF8OAyspIaJQBlwT7jchUAR0C6a95Ru1d/U1VP//dHdc919J/AbgmDF3Xe4+8vuXuTu+8J5E8J5xQR7XVcDmNmJBOE118xSgSuAX7j7PnffCPyWILhr4+vAWnd/xt3L3H0G8AVwUXULhrVcCtwVbscq4OnINu7+bLitZe7+W4IPtYERTT5w9zfdvYwgpDoB97t7KcEHSm8za2tmXYALCML7gAddWf8LTKmsNndf7O4Lw+fdSPCBMaEGr0tVXnH3T8N6nwNGhNMnARvd/cnwOZcALxOEaDRy3P0xdy8neA27AV1qWtzR3ldRWuzuL4Wv/++ApgQfoGOBlgS/mxJ3f4/gv4krq1hPKXCPu5e6+xsEe/cDq2grNaSDu/VfbsT9HKA7gJk1Jwiu8wn+PQdoZWapEX/8M8zs1wSh/oK7F4cB2DhcV+R6e9Syvu5HrKsm6+tE8B6M3MbI+5jZ7QTdFN0J9rJbAx0jmmyNuH8Q2B5u/+HHEAROd4K9xwIzO9w+5cjni3jeEwiCK5Ng7zeNoKvpWG2JuF8U1gbBsZAxZrY7Yn4a8ExN1+vuReE2tqy6eeWieF9V5/9eT3evMLM8wvcskOvuFRFtj/Y+2RF+OB4W+VrJMdIef/3XM+J+BsG/8BB0ewwExrh7a2B8ON0A3H0hQT/oGcBV/CNAthPsTfU6Yr2ba1lf/hHrqsn6thH8S58eMe3/ttfMzgD+FfgWwb/5bQmOIxg1lwsUAx3dvW14a+3uJ1bR/mGC/1wGhK/vL2v4vDU9mJ0LvB9RW1t3b+nuN9dwPcda11HfV1GI/P2lEPxu88Nbz3DaYbV932mgwDFS8Nd/PzCzdDNrTxA+z4fTWxHs0e4O591VybLTCQ5Klrn7hwDhXtsLwG/MrJWZ9QJ+SnCAtDbeAE4ws6vMLM3MriDoq59b3YJhLa8Ad5tZczMbBFwT0aQVwQfDNiDNzO4k2OOvMXcvAN4Cfmtmrc0sxcz6mVlV3RitCA4o7w/rOjKAtwJ9j/KUW4F0M2scZYlzCV7H75hZo/B2ipkNjnL5aFVXVzTvq6MZZWbfNLM04DaCD9uFBAeyDwA/D7dtIkF34MxabsPRXnuphoK//vsLQWBlh7fDXwB6AGhGsAe/EPhbJcs+Awzlq90FPyT4I8wmGA3yF+CJ2hTn7jsI+qdvB3YAPwcmufv2KFdxK8Fomy1hnTMIwgLgTeCvBAefcwgO5FbaNROlawi6uQ6PknqJoC+8Mv9C8J/SPuAx/vGBe9jdwNNmttvMvlXJ8u8RjFzZYmbVvhZhf/q5BMcc8glej/8kOKYRS9XVFc376mhmERxDOnzA/5thP30JcDHBcZbtwEPANe7+RS224c/AkPC1f60Wyye9w0f9pR4ys40EIyjeqeXyzQiGw53s7mtjWVtdMbP/BLq6e1TfSpX6w8zuJhjpdHW8a5Gj0x5/YrsZWFSfQ9/MBpnZMAuMBq4HXo13XSKJTKN6ElT434IBk+NcSnVaEXTvdCf47+S3BN0FIlJH1NUjIpJk1NUjIpJkqu3qMbMnCEZtFLr70Erm/wz4dsT6BgOd3H1n2N2wj+DcIGXunhlNUR07dvTevXtHtQEiIgKLFy/e7u6domlbbVePmY0n+Lr09MqC/4i2FwE/cfezwscbgcwaDO0DIDMz07OysmqyiIhIUjOzxdHuXFfb1ePu8wlOLBWNKwkO1ImISD0Vsz7+8Bwf5xOcWOowB94ys8VmNrWa5aeaWZaZZW3bti1WZYmIyBFieXD3IuCj8CySh41z95MJvq33g7DbqFLuPs3dM909s1OnqLqpRESkFmIZ/FM4opvH3fPDn4UEX8oZHcPnExGRWohJ8JtZG4Jzds+KmNbCzFodvk9wHpLPY/F8IiJSe9EM55xBcEWcjuG5te8iOK857v5I2OwbwFvufiBi0S7Aq+F5wdOAv7h7TU/4JCIiMVZt8Lt7VVfIiWzzFMHl0CKnZQPDa1uYiIjUDX1zV0Qkzg6WlPPGigIeeX/9cXk+naRNRCQODpWW8/6abcxdXsC7q7dSVFJOj7bNuP70PjRKrdt9cgW/iMhxUlJWwYfrtjF3WQFvr9rKvuIy2rdozOSRPZg0rBtj+nQgNaU2VxatGQW/iEgdKi2vYMH6Hcxdns+bK7ey52AprZumccFJXZk0rDun9utQ53v4R1Lwi4jEWHmF80n2DuYsL+Bvnxewq6iUlk3SOHdIFyYN78bp/TvROC1+h1gV/CIiMVBR4WTl7GLu8nzeWLGF7fuLad44lbMHd2HSsG5MOKETTRulxrtMQMEvIlJr7s6STbt5fXkBb6woYMveQzRJS+HswZ35+kndOWtQZ5o1rh9hH0nBLyJSA+7Ois17mLu8gNeXF7B590Eap6YwYWAnfjFsEOcM7kKLJvU7Wut3dSIi9YC7s7pgH3OX5/P6igJydhSRlmKcMaAjP/3aCXztxC60btoo3mVGTcEvIlKFtVv3MWd5AXOX55O97QCpKcZp/Trwg4n9OffELrRt3jjeJdaKgl9EJELuziLmLM9n9tJ8vtiyDzMY26cD15/eh/NP7EqHlk3iXeIxU/CLSNLbvr+Y15cXMHtZPotzdgFwckZb7r5oCBcO60bnVk3jXGFsKfhFJCntO1TKmyu3MmvpZj5ev4PyCmdQ11b87LyBXDy8Oz3bN493iXVGwS8iSeNQaTl//6KQWUvzee/LQkrKKkhv14ybJvTl4uE9GNi1VbxLPC4U/CKS0MrKK/ho/Q5mL83nzZVb2F9cRseWTbhqdAYXj+jOyJ5tCa8bkjQU/CKScIIvVu1i1tJ8Xl9ewI4DJbRqmsYFQ7tyyYgejO3bnrTjfH6c+kTBLyIJwd35Yss+Zi3NZ86yfDbvPkiTtBTOGdyFi4Z3Z+LA+nPKhHhT8ItIg7ZpRxGzl21m1tJ81hbuJzX8YtXt557A14Z0oVUD+mLV8aLgF5EGp3DvIeYuL2DWsnyW5e4G4JTe7bh38lAuHJoYY+3rkoJfRBqE/cVlvLGigFlLN7Ng/Q4qHIZ0a80dFwziouHd6dG2WbxLbDCqDX4zewKYBBS6+9BK5k8EZgEbwkmvuPs94bzzgQeBVOBxd78/RnWLSBJwdxbn7OL5Rbm8vqKAopJyendozq1n9ufiEd3p3zk5hl/GWjR7/E8BfwSmH6XNB+4+KXKCmaUCfwK+BuQBi8xstruvqmWtIpIkCvce4uUlm3kxK5fs7Qdo0TiVi4Z151unpHNyRrukG34Za9UGv7vPN7PetVj3aGCdu2cDmNlM4BJAwS8iX1FaXsF7XxTywqJc5q3ZRnmFc0rvdtw8sR8XntSt3p/quCGJ1St5qpktA/KBf3H3lUAPIDeiTR4wpqoVmNlUYCpARkZGjMoSkfpu7dZ9vJCVy6ufbWb7/hI6t2rC1PF9uXxUOn07tYx3eQkpFsG/BOjl7vvN7ELgNWAAUNn/Yl7VStx9GjANIDMzs8p2ItLw7TtUytzlBbyQlctnm3aTlmKcPbgzV5zSk/EDOiX1l6uOh2MOfnffG3H/DTN7yMw6Euzh94xomk7wH4GIJCF355MNO3khK5c3VhRwqLSCAZ1b8uuvD2byyB501BDM4+aYg9/MugJb3d3NbDSQAuwAdgMDzKwPsBmYAlx1rM8nIg3Llj2HeHlJHi9k5ZKzo4hWTdL45snpfCuzJ8PT2+hAbRxEM5xzBjAR6GhmecBdQCMAd38EuAy42czKgIPAFHd3oMzMbgXeJBjO+UTY9y8iCa64rJx3VxfyQlYu89dso8JhbN/2/PjsAVwwtFu9vAB5MrEgo+uXzMxMz8rKincZIlJDX2zZywuL8nj1szx2FZXStXVTLhuVzuWZ6fTq0CLe5SU0M1vs7pnRtNX4KBE5JnsOljJ7WT4vZuWyPG8PjVKNc4d05fLMdM4Y0InUFHXl1DcKfhGplaW5u5m+YCOvLy+guKyCQV1bceekIUwe2YP2LRrmRciThYJfRKJ2qLScOcvyeWZhDsvz9tCicSqXjUpnyikZDO3RWgdqGwgFv4hUK3dnEc8uzOH5rFx2F5XSv3NL7rnkRL4xsodOe9wAKfhFpFIVFc77a7fxzIIc/v5lISlmnDukC985tRen9u2gvfsGTMEvIv9kd1EJL2bl8ewnOeTsKKJjyyb88Mz+XDkmg25tdOrjRKDgFxEAPt+8h+kLNjJraT7FZRWc0rsdt587kPNP7ErjNJ1CIZEo+EWSWHFZOW+sKGD6ghw+27SbZo1S+ebJ6XxnbC+GdG8d7/Kkjij4RZLQ5t0HeW5hDs8vymXHgRL6dmzBnZOGcOmodNo008HaRKfgF0kSFRXOR+u3M31BDu+u3grA2YO7cM2pvRjXryMp+qJV0lDwiyS4PQdLeXlxHs8uzCF7+wHat2jMTRP6cdWYDNLbNY93eRIHCn6RBLW6YC/TF+Tw2mebOVhazsiMtvzvFcO58KRuNEnTSdKSmYJfJIGUllfw18+38MyCjSzauIsmaSlcMqI715zam6E92sS7PKknFPwiCWDPwVJmfrqJpz7eSMGeQ2S0b86vLhzM5ZnptG2u8+bIP1PwizRguTuLePKjjTy/aBMHSso5tW8H7ps8lDMHdtbBWqmSgl+kAfps0y4e/2ADf/28gBQzJg3rxg1n9FV3jkRFwS/SQJRXOG+v2srjH2STlbOLVk3TuPGMvlw3rrdOpSA1ouAXqeeKSsp4MSuPJz7aQM6OItLbNePOSUP41ik9adlEf8JSc3rXiNRTW/ce4umPN/LcJ5vYc7CUET3b8vPzBnHeiV1IS9W5c6T2FPwi9czqgr08/sEGZi/bTFmFc96Qrtw4vg+jerWPd2mSIKoNfjN7ApgEFLr70Ermfxv41/DhfuBmd18WztsI7APKgbJoLwQskmzcnffXbOPxDzbw4brtNGuUylWjM/je6X10kXKJuWj2+J8C/ghMr2L+BmCCu+8yswuAacCYiPlnuvv2Y6pSJEEVl5Uz67N8Hv8wmzVb99O5VRN+fv5ArhqdofH3UmeqDX53n29mvY8y/+OIhwuB9GMvSySx7TxQwrMLc5i+IIft+4sZ1LUVv718OBcN765z30udi3Uf//XAXyMeO/CWmTnwqLtPq2pBM5sKTAXIyMiIcVki9UP2tv38+cMNvLwkj0OlFUwc2IkbTu/LuP66lKEcPzELfjM7kyD4T4+YPM7d882sM/C2mX3h7vMrWz78UJgGkJmZ6bGqSyTe3J1PN+zksQ828O4XW2mUksI3Rvbg+jP6cEKXVvEuT5JQTILfzIYBjwMXuPuOw9PdPT/8WWhmrwKjgUqDXyTRlFc4b67cwqPvr2dZ3h7at2jMD88awHfG9qJTqybxLk+S2DEHv5llAK8A33H3NRHTWwAp7r4vvH8ucM+xPp9IfVdcVs4rSzYzbX42G7YfoHeH5tw3eSiXjUqnaSOdDlniL5rhnDOAiUBHM8sD7gIaAbj7I8CdQAfgobCP8vCwzS7Aq+G0NOAv7v63OtgGkXph36FS/vLJJv784QYK9xVzUo82PPTtkznvxK6k6oRpUo9EM6rnymrm3wDcUMn0bGB47UsTaRi27SvmyY828MzCHPYdKmNc/w787lsjdMBW6i19c1eklnJ2HGDa/GxeXJxHaXkFFwztyk0T+jEsvW28SxM5KgW/SA2tzN/DI+9n8/ryfNJSUrh0VA9uPKMvfTu1jHdpIlFR8ItEwd1ZmL2Th99fz/w122jZJDgl8vdO70OX1k3jXZ5IjSj4RY6iosJ5a9VWHn5/Pctyd9OxZWN+dt5Arh7bizbNGsW7PJFaUfCLVKKkrILXPtvMI/PXk73tABntNSRTEoeCXyTC/uIyZoRDMrfsPcSQbq35/ZUjuXBoV50DXxKGgl8E2L6/mKc+2sj0BRvZe6iMU/t24D8vG8b4AR01JFMSjoJfklruziIe+yCb5xflUlJewblDunDThH6MzGgX79JE6oyCX5LS6oK9PPL+euYuLyDF4BsjezB1fD/6d9aQTEl8Cn5JKivy9vDgu2t4Z3UhLRqn8r1xvfne6X3o1qZZvEsTOW4U/JIUPt+8hwfeWcs7q7fSumkaPznnBK49rZeuciVJScEvCW1V/l4eeGcNb60KAv+nXzuB68b1pnVTjcGX5KXgl4T0xZa9PPD2Wv62cgutmqRx2zkD+O64PvrSlQgKfkkwa7bu48F31vL6igJaNknjR2f15/rT+9KmuQJf5DAFvySEtVv38eC7QeA3b5TKrWf254Yz+qgPX6QSCn5p0NYV7uf3765lzvJ8mjdK5eYJ/bjxjL60a6HAF6mKgl8apOxtQeDPXpZP00apfH98P6aO70t7Bb5ItRT80qBs2H6AP7y7lteWbqZJWio3ntGXqeP70qGlLl4uEi0FvzQIOTsO8Pt31/Ha0s00SjWuP70P35/Qj44KfJEaU/BLvbZpRxF/eG8tr3y2mbQU47rTevP9CX3p3EoXPxGpLQW/1Eu5O4v443vreHlJHikpxjWn9uLmCf3orKtdiRyzqILfzJ4AJgGF7j60kvkGPAhcCBQB17n7knDetcCvw6b3ufvTsShcElPeriL+9Pd1vJgVBP7VY3tx88R+uryhSAxFu8f/FPBHYHoV8y8ABoS3McDDwBgzaw/cBWQCDiw2s9nuvutYipbEs3n3wTDwczGMq8ZkcMvE/nRto8AXibWogt/d55tZ76M0uQSY7u4OLDSztmbWDZgIvO3uOwHM7G3gfGDGsRQtieNQaTkPzVvPI/PW4zhXnNKTWyb2p3tbnS1TpK7Eqo+/B5Ab8TgvnFbV9K8ws6nAVICMjIwYlSX12SfZO/jFqyvI3naAySO687PzB9FDgS9S52IV/JVdm86PMv2rE92nAdMAMjMzK20jiWHPwVLu/+tqZnyaS8/2zZj+vdGMP6FTvMsSSRqxCv48oGfE43QgP5w+8Yjp82L0nNLAuDtvrNjC3XNWsvNACd8f35cfnzOA5o01uEzkeIrVX9xs4FYzm0lwcHePuxeY2ZvAf5jZ4QuYngv8IkbPKQ1I/u6D3Dnrc95ZXcjQHq158rpTGNqjTbzLEklK0Q7nnEGw597RzPIIRuo0AnD3R4A3CIZyriMYzvndcN5OM7sXWBSu6p7DB3olOZRXOM8s2Mh/v/klFQ6//vpgrjutN2mpKfEuTSRpRTuq58pq5jvwgyrmPQE8UfPSpKH7Yste7nh5BUtzdzP+hE78ZvJQerZvHu+yRJKeOlcl5g6VlvP7d9cybX42bZo14sEpI7h4eHeC7/mJSLwp+CWmPl6/nV++soKNO4q4bFQ6v7pwsM6NL1LPKPglJnYXlfCb11fz4uI8enVoznM3jGFc/47xLktEKqHgl2Pi7sxZXsA9c1ayq6iUmyf248dnD6Bpo9R4lyYiVVDwS63l7izi32Z9zrwvtzE8vQ3TvzeGId1bx7ssEamGgl9qrKy8gqc+3shv31qDGdw5aQjXntab1BQdvBVpCBT8UiMr8/dwx8srWLF5D2cO7MS9k4eS3k5DNEUaEgW/ROVgSTkPvLuGxz/YQLvmjfjDlSOZNKybhmiKNEAKfqnWB2u38atXP2fTziKuyOzJLy4cRNvmGqIp0lAp+KVKOw+UcN/cVbzy2Wb6dGzBjBvHcmq/DvEuS0SOkYJfKjVr6Wb+fc4q9h4s5dYz+3PrWf01RFMkQSj45Z8cKi3n3+esZManuYzo2Zb7Lz2JQV01RFMkkSj45f/k7izilueWsGLzHm6Z2I/bzx2oIZoiCUjBLwDM+7KQ255fSnm5M+07ozj3xK7xLklE6oiCP8lVVDi/f28tD767loFdWvHI1aPo3bFFvMsSkTqk4E9iuw6UcNvzS3l/zTa+ObIHv/nGSTRrrAO4IolOwZ+kVuTt4aZnF7NtXzH3TR7Kt8dk6MtYIklCwZ9k3J2Zi3K5a9ZKOrZszAs3ncqInm3jXZaIHEcK/iRyqLScf3vtc15cnMcZAzry4JSRtNdFUkSSjoI/SWzaUcTNzy1mZf5efnhWf2475wQN1RRJUlEFv5mdDzwIpAKPu/v9R8z/X+DM8GFzoLO7tw3nlQMrwnmb3P3iWBQu0Xt39VZ+8vxSAJ64LpOzBnWJc0UiEk/VBr+ZpQJ/Ar4G5AGLzGy2u6863MbdfxLR/ofAyIhVHHT3EbErWaJVXuE88M4a/vDeOoZ0a80jV48io4NOoSyS7KLZ4x8NrHP3bAAzmwlcAqyqov2VwF2xKU9qa+eBEn488zM+WLudy0elc+/koTrXjogA0QV/DyA34nEeMKayhmbWC+gDvBcxuamZZQFlwP3u/loVy04FpgJkZGREUZZUZWnubm55djHbD5Rw/zdPYspovZ4i8g/RBH9lRwC9irZTgJfcvTxiWoa755tZX+A9M1vh7uu/skL3acA0gMzMzKrWL0fh7jz3ySbumbOKzq2b8PJNp3FSept4lyUi9Uw0wZ8H9Ix4nA7kV9F2CvCDyAnunh/+zDazeQT9/18Jfjk2B0vK+dVrK3hlyWYmnNCJB6eM0MVSRKRS0QT/ImCAmfUBNhOE+1VHNjKzgUA7YEHEtHZAkbsXm1lHYBzwX7EoXP5h4/YD3PTsYr7cuo/bzhnAj84aQIqGaopIFaoNfncvM7NbgTcJhnM+4e4rzeweIMvdZ4dNrwRmuntkN81g4FEzqwBSCPr4qzooLLXw9qqt/PSFpaSmGE9edwoTB3aOd0kiUs/ZP+d0/ZCZmelZWVnxLqNeKyuv4Hdvr+Ghees5qUcbHvr2yfRsr6GaIsnKzBa7e2Y0bfXN3QZo+/5ifjTjMz5ev4MrR2dw10VDNFRTRKKm4G9glmzaxS3PLmFXUQn/fdkwLs/sWf1CIiIRFPwNhLszfUEO972+im5tmvHKLadxYncN1RSRmlPwNwB7ikr55WsreH15AWcP6szvvjWCNs0bxbssEWmgFPz13Mfrt3P7C8vYtq+Yn503kJsn9NNQTRE5Jgr+eqq4rJzfvbWGaR9k06dDC1655TSGpeuCKSJy7BT89dDarfv48cylrCrYy7fHZPCrrw+meWP9qkQkNpQm9cjhA7j/8cZqWjZJ4/FrMjlniM6dLyKxpeCvJwr3HeJnLy7n/TXbOHNgJ/7rsuF0atUk3mWJSAJS8NcDb63cwh2vrOBAcRn3XnIiV4/thZkO4IpI3VDwx1FRSRn3zl3FjE9zObF7ax6cMoL+nVvFuywRSXAK/jhZmrubnzy/lI07DnDThH789Gsn0DgtJd5liUgSUPAfZ+UVzkN/X8cD766lS6smzLhxLGP7doh3WSKSRBT8x1HuziJ+8vxSsnJ2cfHw7tw7eShtmukbuCJyfCn4jwN355Ulm7lr9koMeOCKEUwe2SPeZYlIklLw17HdRSX86rXPeX15AaN7t+d3VwwnvZ3Omy8i8aPgr0Mfr9vOT19Yxvb9xfz8/IF8f3w/UnWeHRGJMwV/HSguK+d/3vySxz7YQN9OLXj1mnGclK5TKItI/aDgj7E14Xl2Vus8OyJSTymRYsTdefrjjfy/v35ByyZp/PnaTM4erPPsiEj9E9U3hszsfDP70szWmdkdlcy/zsy2mdnS8HZDxLxrzWxteLs2lsXXF4V7D3Htk4u4e84qxvXvyN9uG6/QF5F6q9o9fjNLBf4EfA3IAxaZ2Wx3X3VE0+fd/dYjlm0P3AVkAg4sDpfdFZPq64E3V27hjpeXc7C0nHsnD+XqMRk6z46I1GvRdPWMBta5ezaAmc0ELgGODP7KnAe87e47w2XfBs4HZtSu3PqjpKyCO2d9zsxFuQyJLUdCAAALmElEQVTt0ZoHrhhJ/84t412WiEi1ounq6QHkRjzOC6cd6VIzW25mL5lZzxoui5lNNbMsM8vatm1bFGXF1/QFG5m5KJebJvTjlZvHKfRFpMGIJvgr67fwIx7PAXq7+zDgHeDpGiwbTHSf5u6Z7p7ZqVOnKMqKn+Kych77IJuxfdtzxwWDdHI1EWlQokmsPKBnxON0ID+ygbvvcPfi8OFjwKhol22IXl2yma17i7llYv94lyIiUmPRBP8iYICZ9TGzxsAUYHZkAzPrFvHwYmB1eP9N4Fwza2dm7YBzw2kNVnmF8+j8bIb2aM0ZAzrGuxwRkRqr9uCuu5eZ2a0EgZ0KPOHuK83sHiDL3WcDPzKzi4EyYCdwXbjsTjO7l+DDA+Cewwd6G6q/fb6FDdsP8NC3T9boHRFpkMy90i73uMrMzPSsrKx4l/EV7s6kP3zIwZJy3v7pBJ13R0TqDTNb7O6Z0bTVUckamL92Oyvz93LTBJ1sTUQaLgV/DTz093V0a9NU59IXkQZNwR+lxTm7+GTDTm44o6+Gb4pIg6YEi9LD89bRrnkjrhzds/rGIiL1mII/Cl9u2cc7qwu57rQ+OsWyiDR4Cv4oPDxvHS0ap3Ltab3iXYqIyDFT8Fcjd2cRc5YXcNWYDNo2bxzvckREjpmCvxqPzl9PisH1p/eNdykiIjGh4D+Kwn2HeCErj0tPTqdrm6bxLkdEJCYU/EfxxIcbKSuv4PsT+sW7FBGRmFHwV2HPwVKeXZjDBSd1o0/HFvEuR0QkZhT8VXh2YQ77i8u4WXv7IpJgFPyVOFhSzhMfbmDCCZ0Y2qNNvMsREYkpBX8lXsjKZceBEm6ZqL19EUk8Cv4jlJZXMG1+NqN6tWN0n/bxLkdEJOYU/EeYsyyfzbsPcsvEfrrQiogkJAV/hIoK5+F56xnUtRVnDeoc73JEROqEgj/CO6u3srZwPzdrb19EEpiCP+TuPDRvPRntm/P1k7pVv4CISAOl4A8tyN7B0tzdTB3fl7RUvSwikriiSjgzO9/MvjSzdWZ2RyXzf2pmq8xsuZm9a2a9IuaVm9nS8DY7lsXH0sPz1tOxZRMuG5Ue71JEROpUtcFvZqnAn4ALgCHAlWY25IhmnwGZ7j4MeAn4r4h5B919RHi7OEZ1x9SKvD18sHY715/eh6aNUuNdjohInYpmj380sM7ds929BJgJXBLZwN3/7u5F4cOFQIPabX5o3jpaNU3j6rEZ8S5FRKTORRP8PYDciMd54bSqXA/8NeJxUzPLMrOFZja5FjXWqXWF+/nbyi1cc2ovWjVtFO9yRETqXDQXkK1sXKNX2tDsaiATmBAxOcPd882sL/Cema1w9/WVLDsVmAqQkXH89rwffX89jVNT+O64PsftOUVE4imaPf48oGfE43Qg/8hGZnYO8CvgYncvPjzd3fPDn9nAPGBkZU/i7tPcPdPdMzt16hT1BhyL/N0HefWzzUw5pScdWzY5Ls8pIhJv0QT/ImCAmfUxs8bAFOCfRueY2UjgUYLQL4yY3s7MmoT3OwLjgFWxKv5YPfZBNgA3jtdlFUUkeVTb1ePuZWZ2K/AmkAo84e4rzeweIMvdZwP/DbQEXgy/8bopHMEzGHjUzCoIPmTud/d6Efw7D5Qw89NcLh7RnfR2zeNdjojIcRNNHz/u/gbwxhHT7oy4f04Vy30MnHQsBdaVpz7awMHScl1oRUSSTlJ+RXV/cRlPfbyRc4d0YUCXVvEuR0TkuErK4P/LJznsPVTGLWf2j3cpIiLHXdIFf3FZOY9/sIHT+nVgRM+28S5HROS4S7rgf3nxZgr3FXPLRO3ti0hySqrgL69wHp2/npN6tGFc/w7xLkdEJC6SKvjfWFFAzo4iXVZRRJJa0gT/4Qut9O3UgvNO7BrvckRE4iZpgn/emm2sLtjLTRP6kZKivX0RSV5JE/wP/3093do0ZfKIo51YVEQk8SVF8Gdt3MmnG3dy4xl9aZyWFJssIlKlpEjBh+atp13zRkwZ3bP6xiIiCS7hg391wV7e+6KQ747rQ/PGUZ2aSEQkoSV88D88bz0tGqdy7am9412KiEi9kNDBn7PjAHOX5/Ptsb1o01yXVRQRgQQP/kfnZ5OWksL1p+uyiiIihyVs8BfuPcRLWXlcOiqdLq2bxrscEZF6I2GD/88fbqCsooKbJuiyiiIikRIy+PcUlfLswhy+Pqw7vTq0iHc5IiL1SkIG//QFGzlQUq69fRGRSiRc8B8sKefJjzcycWAnTuzeJt7liIjUOwkX/DMXbWLngRJdaEVEpApRBb+ZnW9mX5rZOjO7o5L5Tczs+XD+J2bWO2LeL8LpX5rZebEr/atKyip4bH42mb3aMbpP+7p8KhGRBqva4DezVOBPwAXAEOBKMxtyRLPrgV3u3h/4X+A/w2WHAFOAE4HzgYfC9dWJ2cvyyd9ziFvO7FdXTyEi0uBFs8c/Gljn7tnuXgLMBC45os0lwNPh/ZeAsy24xNUlwEx3L3b3DcC6cH0xV1HhPPL+egZ1bcWZAzvXxVOIiCSEaM5a1gPIjXicB4ypqo27l5nZHqBDOH3hEctWekJ8M5sKTAXIyMiIpvZ/UlRaTmavdpwxoJMuqygichTRBH9lKepRtolm2WCi+zRgGkBmZmalbY6mZZM07r90WE0XExFJOtF09eQBkSeyTwfyq2pjZmlAG2BnlMuKiMhxFE3wLwIGmFkfM2tMcLB29hFtZgPXhvcvA95zdw+nTwlH/fQBBgCfxqZ0ERGpjWq7esI++1uBN4FU4Al3X2lm9wBZ7j4b+DPwjJmtI9jTnxIuu9LMXgBWAWXAD9y9vI62RUREomDBjnn9kpmZ6VlZWfEuQ0SkwTCzxe6eGU3bhPvmroiIHJ2CX0QkySj4RUSSjIJfRCTJ1MuDu2a2Dcip5eIdge0xLKc+0bY1XIm8fdq2+qGXu3eKpmG9DP5jYWZZ0R7Zbmi0bQ1XIm+ftq3hUVePiEiSUfCLiCSZRAz+afEuoA5p2xquRN4+bVsDk3B9/CIicnSJuMcvIiJHoeAXEUkyCRP81V0QviEzs55m9nczW21mK83sx/GuKdbMLNXMPjOzufGuJZbMrK2ZvWRmX4S/v1PjXVMsmdlPwvfk52Y2w8yaxrum2jKzJ8ys0Mw+j5jW3szeNrO14c928awxVhIi+KO8IHxDVgbc7u6DgbHADxJs+wB+DKyOdxF14EHgb+4+CBhOAm2jmfUAfgRkuvtQgtO2T4lvVcfkKeD8I6bdAbzr7gOAd8PHDV5CBD/RXRC+wXL3AndfEt7fRxAelV67uCEys3Tg68Dj8a4llsysNTCe4HoVuHuJu++Ob1UxlwY0C6+815wGfIU9d59PcD2RSJcAT4f3nwYmH9ei6kiiBH9lF4RPmGCMZGa9gZHAJ/GtJKYeAH4OVMS7kBjrC2wDngy7sR43sxbxLipW3H0z8D/AJqAA2OPub8W3qpjr4u4FEOyAAZ3jXE9MJErwR31R94bMzFoCLwO3ufveeNcTC2Y2CSh098XxrqUOpAEnAw+7+0jgAAnSVQAQ9ndfAvQBugMtzOzq+FYl0UiU4E/4i7qbWSOC0H/O3V+Jdz0xNA642Mw2EnTRnWVmz8a3pJjJA/Lc/fB/Zy8RfBAkinOADe6+zd1LgVeA0+JcU6xtNbNuAOHPwjjXExOJEvzRXBC+wTIzI+gnXu3uv4t3PbHk7r9w93R3703we3vP3RNir9HdtwC5ZjYwnHQ2wfWnE8UmYKyZNQ/fo2eTQAevQ7OBa8P71wKz4lhLzFR7sfWGoKoLwse5rFgaB3wHWGFmS8Npv3T3N+JYk0Tnh8Bz4Q5JNvDdONcTM+7+iZm9BCwhGHn2GQ34FAdmNgOYCHQ0szzgLuB+4AUzu57gg+7y+FUYOzplg4hIkkmUrh4REYmSgl9EJMko+EVEkoyCX0QkySj4RUSSjIJfRCTJKPhFRJLM/wejannyN3xYzgAAAABJRU5ErkJggg==\n",
=======
      "image/png": "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\n",
>>>>>>> b81947d3201a12d8a42c215398187cb3e8d743cd
      "text/plain": [
       "<Figure size 432x288 with 1 Axes>"
      ]
     },
     "metadata": {
      "needs_background": "light"
     },
     "output_type": "display_data"
    }
   ],
   "source": [
    "n = 12 ## try n = 20 ?\n",
    "x = range(n)\n",
    "res = [payoff(i,i) for i in range(n)]\n",
    "plt.plot(x,res)\n",
    "plt.title(\"payoff of game at the initial point\")\n",
    "plt.show()\n",
    "# payoff of game at the initial point"
   ]
  },
  {
   "cell_type": "code",
   "execution_count": 21,
   "metadata": {},
   "outputs": [],
   "source": [
    "# import timeit\n",
    "\n",
<<<<<<< HEAD
    "for i in range(n):\n",
    "    start = timeit.default_timer()\n",
    "    res = payoff(i,i)\n",
    "    stop = timeit.default_timer()\n",
    "    print('Time: ', stop - start) \n",
=======
    "# n = 14 ## try n = 20 ?\n",
    "\n",
    "# for i in range(n):\n",
    "#     start = timeit.default_timer()\n",
    "#     res = payoff(i,i)\n",
    "#     stop = timeit.default_timer()\n",
    "#     print('Time: ', stop - start)\n",
>>>>>>> b81947d3201a12d8a42c215398187cb3e8d743cd
    "    \n",
    "# observe that running time grows exponentially fast with n"
   ]
  },
  {
   "cell_type": "markdown",
   "metadata": {},
   "source": [
    "#### Complexity analysis:\n",
    "For a bag with n red marbles and n black marbles, how long will the recursion take? \n",
    "- For original state S(n,n), it will need two function calls of S(n-1,n) and S(n,n-1)\n",
    "- Each node will need 2 function calls. Notice, even though the binomial tree is recombined, the function call is not.So going one layer deeper doubles the computing time. We have n + n balls, so the tree is n depth symmetrically on both sides. It is $O(2^{2n})$ complexity."
   ]
  },
  {
   "cell_type": "markdown",
   "metadata": {},
   "source": [
    "## Coding - recursion (with cache)"
   ]
  },
  {
   "cell_type": "code",
<<<<<<< HEAD
   "execution_count": 1,
=======
   "execution_count": 16,
>>>>>>> b81947d3201a12d8a42c215398187cb3e8d743cd
   "metadata": {},
   "outputs": [],
   "source": [
    "# build a dictionary with key = (r,b), value = payoff\n",
    "payoff_dict = {}\n",
    "\n",
    "def payoff(r, b):\n",
    "    \n",
    "    if r == 0:\n",
    "        return 0\n",
    "\n",
    "    if b == 0:\n",
    "        return r  \n",
    "\n",
    "    payoff_if_stop = max(r-b, 0)\n",
    "    \n",
    "    # if node is calculated, extract from the dictionary\n",
    "    # otherwise call the payoff() to calculate, then store it in the dictionary\n",
    "\n",
    "    red_key = (r-1,b)\n",
    "    if red_key in payoff_dict:\n",
    "        red_payoff = payoff_dict[red_key]\n",
    "    else:\n",
    "        red_payoff = payoff(r-1,b)\n",
    "        payoff_dict[red_key] = red_payoff\n",
    "        \n",
    "    black_key = (r,b-1)\n",
    "    if black_key in payoff_dict:\n",
    "        black_payoff = payoff_dict[black_key]\n",
    "    else:\n",
    "        black_payoff = payoff(r,b-1)\n",
    "        payoff_dict[black_key] = black_payoff\n",
    "    \n",
    "    payoff_if_go = r/(r+b) * red_payoff + b/(r+b) * black_payoff\n",
    "    \n",
    "    return max(payoff_if_stop, payoff_if_go)"
   ]
  },
  {
   "cell_type": "code",
   "execution_count": null,
   "metadata": {},
   "outputs": [],
   "source": [
    "print(payoff(20,20))"
   ]
  },
  {
   "cell_type": "code",
   "execution_count": 3,
   "metadata": {},
   "outputs": [
    {
     "data": {
      "image/png": "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\n",
      "text/plain": [
       "<Figure size 432x288 with 1 Axes>"
      ]
     },
     "metadata": {
      "needs_background": "light"
     },
     "output_type": "display_data"
    }
   ],
   "source": [
    "import matplotlib.pyplot as plt\n",
    "\n",
    "n = 1000\n",
    "x = range(n)\n",
    "res = [payoff(i,i) for i in range(n)]\n",
    "plt.plot(x,res)\n",
    "plt.title(\"payoff of game at the initial point\")\n",
    "plt.show()\n",
    "# payoff of game at the initial point"
   ]
  },
  {
   "cell_type": "code",
   "execution_count": 12,
   "metadata": {},
   "outputs": [],
   "source": [
    "## try to compare it with 0.52 * n ** 0.5\n",
    "\n",
    "# quadratic = [0.52 * i ** 0.5 for i in range(n)]\n",
    "# plt.plot(x,res)\n",
    "# plt.plot(x,quadratic)\n",
    "# plt.title(\"payoff of game at the initial point\")\n",
    "# plt.show()"
   ]
  },
  {
   "cell_type": "markdown",
   "metadata": {},
   "source": [
    "## Coding - tree:\n",
    "By making use of recombining tree and already computed nodes, we can turn it into $O(n^2)$ complexity - simply counting the edges."
   ]
  },
  {
   "cell_type": "code",
   "execution_count": 1,
   "metadata": {},
   "outputs": [],
   "source": [
    "class Node:\n",
    "    def __init__(self, red, black, dp):\n",
    "        self.r = red\n",
    "        self.b = black\n",
    "        self.dp = dp\n",
    "        \n",
    "        '''pointer to the next node - up/down'''\n",
    "        self.next_node_up = dp.node(self.r-1, self.b) if self.r > 0 else None\n",
    "        self.next_node_down = dp.node(self.r, self.b-1) if self.b > 0 else None\n",
    "        next_up_winning = self.next_node_up.winning() if self.next_node_up else 0\n",
    "        next_down_winning = self.next_node_down.winning() if self.next_node_down else 0\n",
    "        \n",
    "        '''backward induction'''\n",
    "        self.winning_if_stop = max(self.r - self.b, 0)\n",
    "        self.winning_if_go = self.r/(self.r + self.b) * next_up_winning \\\n",
    "                + self.b/(self.r + self.b) * next_down_winning if self.r + self.b > 0 else 0\n",
    "        \n",
    "    def winning(self):\n",
    "        return max(self.winning_if_stop, self.winning_if_go)\n",
    "    \n",
    "    def strategy_query(self):\n",
<<<<<<< HEAD
    "        print('stop' if self.winning_if_stop > self.winning_if_go else 'go')\n",
=======
    "        '''print the strategy given the current node'''\n",
    "        print ...\n",
>>>>>>> b81947d3201a12d8a42c215398187cb3e8d743cd
    "    \n",
    "class Game:\n",
    "    def __init__(self):\n",
    "        self.node_dict = {}\n",
    "    \n",
    "    def node(self, red, black):\n",
    "        key = (red, black)\n",
    "        if key not in self.node_dict:\n",
    "            self.node_dict[key] = Node(red, black)\n",
    "        return self.node_dict[key]"
   ]
  },
  {
   "cell_type": "code",
   "execution_count": 2,
   "metadata": {},
   "outputs": [
    {
     "name": "stdout",
     "output_type": "stream",
     "text": [
      "1.607227911407478\n",
      "go\n"
     ]
    }
   ],
   "source": [
    "dp = Game()\n",
    "x = dp.node(10,10).winning()\n",
    "print(x)\n",
    "strategy = dp.node(1,3).strategy_query()"
   ]
  },
  {
   "cell_type": "code",
<<<<<<< HEAD
   "execution_count": 15,
   "metadata": {},
   "outputs": [
    {
     "name": "stdout",
     "output_type": "stream",
     "text": [
      "6.149273689875587\n",
      "Wall time: 156 ms\n"
     ]
    }
   ],
   "source": [
    "%%time\n",
    "dp = Game()\n",
    "x = dp.node(140,140).winning()\n",
    "print(x)"
   ]
  },
  {
   "cell_type": "code",
   "execution_count": 22,
=======
   "execution_count": 3,
>>>>>>> b81947d3201a12d8a42c215398187cb3e8d743cd
   "metadata": {},
   "outputs": [],
   "source": [
    "## performance test\n",
    "# dp = Game()\n",
    "# res = []\n",
    "# time = []\n",
    "# for n in range(100):\n",
    "#     start = timeit.default_timer()\n",
    "#     res.append(dp.node(n,n).winning())\n",
    "#     stop = timeit.default_timer()\n",
    "#     time.append(stop - start)\n",
    "# plt.plot(time)\n",
    "# plt.title(\"running time with calculated nodes\")\n",
    "# plt.show()"
   ]
  },
  {
   "cell_type": "markdown",
   "metadata": {},
   "source": [
    "## Similar questions:"
   ]
  },
  {
   "cell_type": "markdown",
   "metadata": {},
   "source": [
    "### Dice game 1:\n",
    "You can roll a dice up to 3 times. After each roll, you can either keep the number facing up or forgo the number and keep rolling. At the end of the 3rd roll, you will have to take the number facing up.What is the expected payoff of the game if you follow optimal strategy?"
   ]
  },
  {
   "cell_type": "markdown",
   "metadata": {},
   "source": [
    "### Dice game 2:\n",
    "Now you can roll a dice for as many times as you want unless a 6 shows up. After each roll, if 1 appears, you win \\$1.If 2 appears, you win \\$2. ... If 5 appears, you win \\$5. However, if 6 shows up, you must give up all the winnings and the game ends. How much are you willing to pay for playing this game. (assuming you are risk neutral)"
   ]
  },
  {
   "cell_type": "markdown",
   "metadata": {},
   "source": [
    "### Dice game 3:\n",
    "You keep rolling a dice until the sum of two consecutive steps can be divided by 6. How many steps will it expect to take?"
   ]
  }
 ],
 "metadata": {
  "kernelspec": {
   "display_name": "Python 3",
   "language": "python",
   "name": "python3"
  },
  "language_info": {
   "codemirror_mode": {
    "name": "ipython",
    "version": 3
   },
   "file_extension": ".py",
   "mimetype": "text/x-python",
   "name": "python",
   "nbconvert_exporter": "python",
   "pygments_lexer": "ipython3",
   "version": "3.6.6"
  }
 },
 "nbformat": 4,
 "nbformat_minor": 2
}
